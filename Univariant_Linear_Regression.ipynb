{
 "cells": [
  {
   "cell_type": "markdown",
   "id": "7da70abd",
   "metadata": {},
   "source": [
    "# Univariant Linear Regression From Scratch\n"
   ]
  },
  {
   "cell_type": "code",
   "execution_count": 1,
   "id": "2b8edfaf",
   "metadata": {},
   "outputs": [],
   "source": [
    "# import all the necessary libraries\n",
    "import pandas as pd"
   ]
  },
  {
   "cell_type": "code",
   "execution_count": 2,
   "id": "e20e3cf4",
   "metadata": {},
   "outputs": [
    {
     "data": {
      "text/html": [
       "<div>\n",
       "<style scoped>\n",
       "    .dataframe tbody tr th:only-of-type {\n",
       "        vertical-align: middle;\n",
       "    }\n",
       "\n",
       "    .dataframe tbody tr th {\n",
       "        vertical-align: top;\n",
       "    }\n",
       "\n",
       "    .dataframe thead th {\n",
       "        text-align: right;\n",
       "    }\n",
       "</style>\n",
       "<table border=\"1\" class=\"dataframe\">\n",
       "  <thead>\n",
       "    <tr style=\"text-align: right;\">\n",
       "      <th></th>\n",
       "      <th>Temperature</th>\n",
       "      <th>Revenue</th>\n",
       "    </tr>\n",
       "  </thead>\n",
       "  <tbody>\n",
       "    <tr>\n",
       "      <th>0</th>\n",
       "      <td>24.566884</td>\n",
       "      <td>534.799028</td>\n",
       "    </tr>\n",
       "    <tr>\n",
       "      <th>1</th>\n",
       "      <td>26.005191</td>\n",
       "      <td>625.190122</td>\n",
       "    </tr>\n",
       "    <tr>\n",
       "      <th>2</th>\n",
       "      <td>27.790554</td>\n",
       "      <td>660.632289</td>\n",
       "    </tr>\n",
       "    <tr>\n",
       "      <th>3</th>\n",
       "      <td>20.595335</td>\n",
       "      <td>487.706960</td>\n",
       "    </tr>\n",
       "    <tr>\n",
       "      <th>4</th>\n",
       "      <td>11.503498</td>\n",
       "      <td>316.240194</td>\n",
       "    </tr>\n",
       "  </tbody>\n",
       "</table>\n",
       "</div>"
      ],
      "text/plain": [
       "   Temperature     Revenue\n",
       "0    24.566884  534.799028\n",
       "1    26.005191  625.190122\n",
       "2    27.790554  660.632289\n",
       "3    20.595335  487.706960\n",
       "4    11.503498  316.240194"
      ]
     },
     "execution_count": 2,
     "metadata": {},
     "output_type": "execute_result"
    }
   ],
   "source": [
    "datapath= \"D:/Machine Learning Datasets/Linear Regression/IceCreamData.csv\"\n",
    "data= pd.read_csv(datapath)\n",
    "\n",
    "data.head()"
   ]
  },
  {
   "cell_type": "code",
   "execution_count": 3,
   "id": "8c32e0ad",
   "metadata": {},
   "outputs": [
    {
     "data": {
      "text/plain": [
       "Index(['Temperature', 'Revenue'], dtype='object')"
      ]
     },
     "execution_count": 3,
     "metadata": {},
     "output_type": "execute_result"
    }
   ],
   "source": [
    "data.columns\n"
   ]
  },
  {
   "cell_type": "code",
   "execution_count": 4,
   "id": "d9b75b8f",
   "metadata": {},
   "outputs": [],
   "source": [
    "#let's plot the data points\n",
    "import numpy as np\n",
    "import matplotlib.pyplot as plt"
   ]
  },
  {
   "cell_type": "code",
   "execution_count": 5,
   "id": "bc591349",
   "metadata": {},
   "outputs": [
    {
     "data": {
      "text/plain": [
       "<matplotlib.collections.PathCollection at 0x249dac33b80>"
      ]
     },
     "execution_count": 5,
     "metadata": {},
     "output_type": "execute_result"
    },
    {
     "data": {
      "image/png": "[encoded data removed]",
      "text/plain": [
       "<Figure size 432x288 with 1 Axes>"
      ]
     },
     "metadata": {
      "needs_background": "light"
     },
     "output_type": "display_data"
    }
   ],
   "source": [
    "X= data['Temperature']\n",
    "Y= data['Revenue']\n",
    "plt.scatter(X,Y)"
   ]
  },
  {
   "cell_type": "code",
   "execution_count": 6,
   "id": "16af921b",
   "metadata": {},
   "outputs": [],
   "source": [
    "from sklearn.model_selection import train_test_split\n",
    "X_train, X_test, y_train, y_test = train_test_split(X, Y, test_size=0.8, random_state=42)\n",
    "X_train = X_train.reset_index(drop=True)\n",
    "X_test = X_test.reset_index(drop=True)\n",
    "y_train = y_train.reset_index(drop=True)\n",
    "y_test = y_test.reset_index(drop=True)"
   ]
  },
  {
   "cell_type": "code",
   "execution_count": 7,
   "id": "c1752b2f",
   "metadata": {
    "scrolled": true
   },
   "outputs": [
    {
     "data": {
      "text/plain": [
       "<matplotlib.collections.PathCollection at 0x249dd53ae80>"
      ]
     },
     "execution_count": 7,
     "metadata": {},
     "output_type": "execute_result"
    },
    {
     "data": {
      "image/png": "[encoded data removed]",
      "text/plain": [
       "<Figure size 432x288 with 1 Axes>"
      ]
     },
     "metadata": {
      "needs_background": "light"
     },
     "output_type": "display_data"
    }
   ],
   "source": [
    "plt.xlabel('Temperature')\n",
    "plt.ylabel('Revenue')\n",
    "plt.scatter(X_train,y_train)\n"
   ]
  },
  {
   "cell_type": "code",
   "execution_count": 113,
   "id": "14764443",
   "metadata": {},
   "outputs": [],
   "source": [
    "#Now as our training data is ready we need to create a Linear regression model and it's related functions.\n",
    "\n",
    "#computing cost\n",
    "def compute_cost(w,b,X,Y):\n",
    "    m=X.shape[0]\n",
    "    \n",
    "    cost=0\n",
    "    for i in range(m):\n",
    "        f_x=w*X[i]+b\n",
    "        cost+=(f_x-Y[i])**2\n",
    "    cost=(cost/(2*m))\n",
    "    \n",
    "#     print(cost)\n",
    "#     plt.scatter(w,cost)\n",
    "    return cost\n",
    "    \n",
    "    \n",
    "    \n",
    "\n"
   ]
  },
  {
   "cell_type": "code",
   "execution_count": 114,
   "id": "138f1662",
   "metadata": {},
   "outputs": [],
   "source": [
    "# compute gardient descent\n",
    "\n",
    "def compute_gradient(alpha,X,Y,w,b):\n",
    "    m=X.shape[0]\n",
    "    dj_dw=0\n",
    "    dj_db=0\n",
    "    for i in range(m):\n",
    "        f_xi=w*X[i]+b\n",
    "        dj_dw_i=(f_xi-Y[i])*X[i]\n",
    "        dj_db_i=f_xi-Y[i]\n",
    "        dj_dw+=dj_dw_i\n",
    "        dj_db+=dj_db_i\n",
    "    dj_dw=dj_dw/m\n",
    "    dj_db=dj_db/m\n",
    "    \n",
    "    w=w-(alpha*dj_dw)\n",
    "    b=b-(alpha*dj_db)\n",
    "    \n",
    "    return w,b\n",
    "        "
   ]
  },
  {
   "cell_type": "code",
   "execution_count": 157,
   "id": "5fb80d3f",
   "metadata": {},
   "outputs": [],
   "source": [
    "# import matplotlib.animation as animation\n",
    "\n",
    "# # Define the update function for the animation\n",
    "# def updatePlot(slope, intercept):\n",
    "#     # Update the y-values of the line using the new slope and intercept\n",
    "#     line.set_ydata(slope * X_train + intercept)\n",
    "#     plt.draw()\n",
    "#     plt.pause(0.001)\n",
    "\n",
    "\n",
    "\n",
    "def showLineFit(w,b):\n",
    "\n",
    "    line_x= np.linspace(X_train.min(),X_train.max(),100)\n",
    "    line_y= w*line_x + b\n",
    "    plt.scatter(X_train, y_train, color='blue', label='Data Points')\n",
    "    plt.plot(line_x, line_y, color='red', label='Regression Line')\n",
    "    plt.xlabel('Temperature')\n",
    "    plt.ylabel('Revenue')\n",
    "    plt.legend()\n",
    "    plt.show()"
   ]
  },
  {
   "cell_type": "code",
   "execution_count": 159,
   "id": "be64c7db",
   "metadata": {},
   "outputs": [],
   "source": [
    "# predict function\n",
    "\n",
    "def fit_line():\n",
    "    w=0\n",
    "    b=0\n",
    "    alpha=0.003\n",
    "    convergence=-1\n",
    "    i=0\n",
    "    while True:\n",
    "        i+=1\n",
    "        w,b=compute_gradient(alpha,X_train,y_train,w,b)\n",
    "        cost=compute_cost(w,b,X_train,y_train)\n",
    "        if convergence==w:\n",
    "            break\n",
    "        else:\n",
    "            convergence=w\n",
    "        if i%1000==0:\n",
    "            print(w,b,cost)\n",
    "#             showLineFit(w,b)\n",
    "#             plt.pause(1)\n",
    "#             updatePlot(w,b)\n",
    "#             plt.show()\n",
    "    return w,b,cost\n",
    "    "
   ]
  },
  {
   "cell_type": "code",
   "execution_count": 160,
   "id": "1333475c",
   "metadata": {},
   "outputs": [
    {
     "name": "stdout",
     "output_type": "stream",
     "text": [
      "22.798946817274807 13.578560571881958 329.52324545052943\n",
      "22.461656607663464 21.95078705979146 305.7955224986293\n",
      "22.23824120881272 27.496409988545942 295.3849455349258\n",
      "22.090254581803432 31.169737951225976 290.8172879920216\n",
      "21.99223071287479 33.60288901374101 288.8132208301348\n",
      "21.927301340039392 35.214567620488275 287.93393310954116\n",
      "21.88429320841925 36.282116599038694 287.54814419473354\n",
      "21.855805340684178 36.98924320407838 287.3788786820883\n",
      "21.836935453118304 37.45763205143016 287.304613163637\n",
      "21.824436354903572 37.76788499731005 287.272029046857\n",
      "21.816157161101494 37.97339136444766 287.2577327127242\n",
      "21.810673161469282 38.109515348103656 287.2514601729152\n",
      "21.807040651748533 38.19968160029552 287.24870808589134\n",
      "21.804634538007413 38.259406219102345 287.24750060324266\n",
      "21.803040768470577 38.298966808623476 287.24697081826974\n",
      "21.801985082160684 38.32517108207929 287.246738374253\n",
      "21.801285813189136 38.34252835495272 287.24663638906344\n",
      "21.80082262910691 38.354025522470394 287.24659164289596\n",
      "21.80051582371049 38.36164105412054 287.24657201044215\n",
      "21.800312600942497 38.36668545503296 287.2465633966713\n",
      "21.800177989576763 38.37002678190717 287.2465596173651\n",
      "21.800088825257404 38.37224002099636 287.24655795918864\n",
      "21.80002976430216 38.37370603358664 287.246557231661\n",
      "21.799990643312302 38.37467709582984 287.2465569124571\n",
      "21.799964730222317 38.37532031123359 287.24655677240594\n",
      "21.79994756582451 38.37574636636907 287.2465567109581\n",
      "21.799936196414205 38.37602857817188 287.2465566839977\n",
      "21.7999286655068 38.37621551055422 287.2465566721691\n",
      "21.799923677159573 38.3763393314408 287.24655666697896\n",
      "21.79992037296173 38.37642134832699 287.24655666470176\n",
      "21.799918184316287 38.37647567494193 287.2465566637028\n",
      "21.799916734594117 38.3765116599839 287.24655666326464\n",
      "21.799915774322375 38.37653549587447 287.246556663072\n",
      "21.799915138254416 38.3765512843701 287.246556662988\n",
      "21.79991471693363 38.376561742405826 287.24655666295087\n",
      "21.79991443785778 38.37656866963383 287.2465566629346\n",
      "21.799914253002605 38.37657325811389 287.2465566629275\n",
      "21.799914130557625 38.37657629744645 287.2465566629242\n",
      "21.79991404945211 38.376578310649684 287.24655666292284\n",
      "21.799913995729174 38.37657964416183 287.24655666292233\n",
      "21.799913960144 38.37658052745798 287.246556662922\n",
      "21.799913936572974 38.37658111253857 287.246556662922\n",
      "21.799913920959924 38.376581500086196 287.2465566629217\n",
      "21.799913910618102 38.376581756791175 287.2465566629218\n",
      "21.79991390376784 38.37658192682842 287.2465566629218\n",
      "21.79991389923035 38.37658203945815 287.2465566629217\n",
      "21.79991389622479 38.37658211406222 287.2465566629218\n",
      "21.799913894233967 38.37658216347857 287.2465566629217\n",
      "21.799913892915274 38.37658219621118 287.2465566629219\n",
      "21.79991389204179 38.37658221789272 287.24655666292176\n",
      "21.799913891463216 38.37658223225417 287.24655666292176\n",
      "21.799913891079974 38.37658224176701 287.2465566629219\n",
      "21.79991389082612 38.37658224806817 287.2465566629218\n",
      "21.799913890657976 38.37658225224191 287.24655666292165\n",
      "21.799913890546595 38.376582255006554 287.2465566629217\n",
      "21.79991389047282 38.37658225683784 287.24655666292176\n",
      "21.799913890423955 38.37658225805082 287.2465566629218\n",
      "21.79991389039158 38.3765822588543 287.2465566629219\n",
      "21.79991389037014 38.376582259386524 287.24655666292176\n",
      "21.799913890355942 38.376582259739024 287.2465566629221\n",
      "21.79991389034653 38.37658225997256 287.246556662922\n"
     ]
    }
   ],
   "source": [
    "# Create a figure and axis\n",
    "# fig, ax = plt.subplots()\n",
    "# line, = ax.plot(X_train, y_train, 'o')\n",
    "w,b,cost=fit_line()\n"
   ]
  },
  {
   "cell_type": "code",
   "execution_count": 147,
   "id": "531a6c01",
   "metadata": {},
   "outputs": [
    {
     "data": {
      "image/png": "[encoded data removed]",
      "text/plain": [
       "<Figure size 432x288 with 1 Axes>"
      ]
     },
     "metadata": {
      "needs_background": "light"
     },
     "output_type": "display_data"
    }
   ],
   "source": [
    "# now we have best fit line so we will plot.\n",
    "showLineFit(w,b)"
   ]
  },
  {
   "cell_type": "code",
   "execution_count": 121,
   "id": "a918981a",
   "metadata": {},
   "outputs": [],
   "source": [
    "def predict(x,Y):\n",
    "    predicted=[]\n",
    "    m=x.shape[0]\n",
    "    for i in range(m):\n",
    "        y=w*x[i]+b\n",
    "        predicted.append(y)\n",
    "        #print(\"temperature={},Predicted Revenue={}, Actual Revenue={}\".format(x[i],y,Y[i]))\n",
    "    return predicted"
   ]
  },
  {
   "cell_type": "code",
   "execution_count": 122,
   "id": "79e2eb00",
   "metadata": {},
   "outputs": [],
   "source": [
    "response=predict(X_test,y_test)"
   ]
  },
  {
   "cell_type": "code",
   "execution_count": 123,
   "id": "41ea7ab6",
   "metadata": {},
   "outputs": [
    {
     "name": "stdout",
     "output_type": "stream",
     "text": [
      "29.70418303 659.8732869\n"
     ]
    }
   ],
   "source": [
    "print(X_test[0],y_test[0])"
   ]
  },
  {
   "cell_type": "code",
   "execution_count": 124,
   "id": "4536c358",
   "metadata": {},
   "outputs": [
    {
     "name": "stdout",
     "output_type": "stream",
     "text": [
      "The accuracy of our model is 98.0%\n"
     ]
    }
   ],
   "source": [
    "from sklearn.metrics import r2_score\n",
    "score = r2_score(response,y_test)\n",
    "print(\"The accuracy of our model is {}%\".format(round(score, 2) *100))"
   ]
  },
  {
   "cell_type": "code",
   "execution_count": null,
   "id": "7a2e959e",
   "metadata": {},
   "outputs": [],
   "source": []
  }
 ],
 "metadata": {
  "kernelspec": {
   "display_name": "Python 3 (ipykernel)",
   "language": "python",
   "name": "python3"
  },
  "language_info": {
   "codemirror_mode": {
    "name": "ipython",
    "version": 3
   },
   "file_extension": ".py",
   "mimetype": "text/x-python",
   "name": "python",
   "nbconvert_exporter": "python",
   "pygments_lexer": "ipython3",
   "version": "3.9.12"
  }
 },
 "nbformat": 4,
 "nbformat_minor": 5
}
